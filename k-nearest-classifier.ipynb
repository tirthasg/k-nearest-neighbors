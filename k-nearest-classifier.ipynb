{
 "cells": [
  {
   "cell_type": "code",
   "execution_count": 1,
   "id": "ad1ccf7a-da3f-4a57-aeff-e39a835f0678",
   "metadata": {},
   "outputs": [],
   "source": [
    "import numpy as np"
   ]
  },
  {
   "cell_type": "code",
   "execution_count": 2,
   "id": "2052f265-a18b-4716-a8e6-0833482c5e3c",
   "metadata": {},
   "outputs": [],
   "source": [
    "class KNearestClassifier:\n",
    "    def __init__(self, n_neighbors):\n",
    "        self.n_neighbors = n_neighbors\n",
    "        return\n",
    "\n",
    "    def fit(self, X_train, y_train):\n",
    "        self.X_train = X_train\n",
    "        self.y_train = y_train\n",
    "        return self\n",
    "\n",
    "    def __euclidean_distance(self, a, b):\n",
    "        return np.sqrt(np.sum(np.square(a - b)))\n",
    "        \n",
    "    def predict(self, X_test):\n",
    "        for query in X_test:\n",
    "            distance = [self.__euclidean_distance(training_instance, query) for training_instance in self.X_train]\n",
    "                        "
   ]
  },
  {
   "cell_type": "code",
   "execution_count": null,
   "id": "6ed02ae2-6fac-4c59-be4e-b35d4031f694",
   "metadata": {},
   "outputs": [],
   "source": []
  }
 ],
 "metadata": {
  "kernelspec": {
   "display_name": "Python 3 (ipykernel)",
   "language": "python",
   "name": "python3"
  },
  "language_info": {
   "codemirror_mode": {
    "name": "ipython",
    "version": 3
   },
   "file_extension": ".py",
   "mimetype": "text/x-python",
   "name": "python",
   "nbconvert_exporter": "python",
   "pygments_lexer": "ipython3",
   "version": "3.12.3"
  }
 },
 "nbformat": 4,
 "nbformat_minor": 5
}
