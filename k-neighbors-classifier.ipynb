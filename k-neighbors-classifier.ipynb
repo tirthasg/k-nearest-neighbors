{
 "cells": [
  {
   "cell_type": "code",
   "execution_count": 36,
   "id": "ad1ccf7a-da3f-4a57-aeff-e39a835f0678",
   "metadata": {},
   "outputs": [],
   "source": [
    "import numpy as np"
   ]
  },
  {
   "cell_type": "code",
   "execution_count": 37,
   "id": "2052f265-a18b-4716-a8e6-0833482c5e3c",
   "metadata": {},
   "outputs": [],
   "source": [
    "class KNeighborsClassifier:\n",
    "    def __init__(self, n_neighbors):\n",
    "        self.n_neighbors = n_neighbors\n",
    "        return\n",
    "\n",
    "    def fit(self, X_train, y_train):\n",
    "        self.X_train = X_train\n",
    "        self.y_train = y_train\n",
    "        return self\n",
    "\n",
    "    def __euclidean_distance(self, a, b):\n",
    "        return np.sqrt(np.sum(np.square(a - b)))\n",
    "\n",
    "    def __plurality_voting(self, classes_of_closest_neighbors):\n",
    "        unique, unique_counts = np.unique(classes_of_closest_neighbors, return_counts=True)\n",
    "        return unique[np.argmax(unique_counts)]\n",
    "    \n",
    "    def predict(self, X_test):\n",
    "        y_pred = []\n",
    "        for query in X_test:\n",
    "            distance = [self.__euclidean_distance(training_instance, query) for training_instance in self.X_train]\n",
    "            \n",
    "            indices_of_closest_neighbors = np.argpartition(a=distance, kth=self.n_neighbors)[:self.n_neighbors]\n",
    "            classes_of_closest_neighbors = self.y_train[indices_of_closest_neighbors]\n",
    "\n",
    "            prediction = self.__plurality_voting(classes_of_closest_neighbors)\n",
    "            y_pred.append(prediction)\n",
    "\n",
    "        return np.array(y_pred)\n",
    "\n",
    "    def score(self, X_test, y_test):\n",
    "        y_pred = self.predict(X_test)\n",
    "        is_correct = (y_test == y_pred)\n",
    "\n",
    "        accuracy_score = is_correct.sum() / is_correct.size\n",
    "        return accuracy_score.item()"
   ]
  },
  {
   "cell_type": "code",
   "execution_count": 38,
   "id": "6ed02ae2-6fac-4c59-be4e-b35d4031f694",
   "metadata": {},
   "outputs": [],
   "source": [
    "from sklearn.datasets import load_iris"
   ]
  },
  {
   "cell_type": "code",
   "execution_count": 39,
   "id": "cfc5698e-0bcd-40e5-bc76-ae4bcc0a4d46",
   "metadata": {},
   "outputs": [],
   "source": [
    "data = load_iris()\n",
    "X = data['data']\n",
    "y = data['target']"
   ]
  },
  {
   "cell_type": "code",
   "execution_count": 40,
   "id": "36bb45f4-f41c-4a83-ae80-4770b92c6daf",
   "metadata": {},
   "outputs": [
    {
     "name": "stdout",
     "output_type": "stream",
     "text": [
      "(150, 4)\n",
      "(150,)\n"
     ]
    }
   ],
   "source": [
    "print(X.shape)\n",
    "print(y.shape)"
   ]
  },
  {
   "cell_type": "code",
   "execution_count": 41,
   "id": "a3f539b1-834d-46a2-a3ee-f62435523b62",
   "metadata": {},
   "outputs": [],
   "source": [
    "from sklearn.model_selection import train_test_split"
   ]
  },
  {
   "cell_type": "code",
   "execution_count": 42,
   "id": "b45d9e7d-9de0-440c-9570-c919031cdcba",
   "metadata": {},
   "outputs": [],
   "source": [
    "X_train, X_test, y_train, y_test = train_test_split(X, y, test_size=0.33, random_state=42, shuffle=True, stratify=None)"
   ]
  },
  {
   "cell_type": "code",
   "execution_count": 43,
   "id": "a0498c8b-d852-4ef9-b2a6-31952c0bfd6b",
   "metadata": {},
   "outputs": [
    {
     "name": "stdout",
     "output_type": "stream",
     "text": [
      "(100, 4) (100,)\n",
      "(50, 4) (50,)\n"
     ]
    }
   ],
   "source": [
    "print(X_train.shape, y_train.shape)\n",
    "print(X_test.shape, y_test.shape)"
   ]
  },
  {
   "cell_type": "code",
   "execution_count": 44,
   "id": "4466081b-64a7-467c-b64d-d0d0cfc50b29",
   "metadata": {},
   "outputs": [
    {
     "data": {
      "text/plain": [
       "<__main__.KNeighborsClassifier at 0x70eab8ef8950>"
      ]
     },
     "execution_count": 44,
     "metadata": {},
     "output_type": "execute_result"
    }
   ],
   "source": [
    "clf = KNeighborsClassifier(n_neighbors=3)\n",
    "clf.fit(X_train, y_train)"
   ]
  },
  {
   "cell_type": "code",
   "execution_count": 45,
   "id": "3b629d16-8e6b-43cc-8965-9802e121f609",
   "metadata": {},
   "outputs": [
    {
     "data": {
      "text/plain": [
       "0.98"
      ]
     },
     "execution_count": 45,
     "metadata": {},
     "output_type": "execute_result"
    }
   ],
   "source": [
    "clf.score(X_test, y_test)"
   ]
  },
  {
   "cell_type": "code",
   "execution_count": null,
   "id": "47f9f3dc-30d2-4403-9f2b-5b44478235f9",
   "metadata": {},
   "outputs": [],
   "source": []
  }
 ],
 "metadata": {
  "kernelspec": {
   "display_name": "Python 3 (ipykernel)",
   "language": "python",
   "name": "python3"
  },
  "language_info": {
   "codemirror_mode": {
    "name": "ipython",
    "version": 3
   },
   "file_extension": ".py",
   "mimetype": "text/x-python",
   "name": "python",
   "nbconvert_exporter": "python",
   "pygments_lexer": "ipython3",
   "version": "3.12.3"
  }
 },
 "nbformat": 4,
 "nbformat_minor": 5
}
